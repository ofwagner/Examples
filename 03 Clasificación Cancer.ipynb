{
 "cells": [
  {
   "cell_type": "markdown",
   "metadata": {
    "colab_type": "text",
    "id": "JmKW84y8MoWf"
   },
   "source": [
    "#### Cargamos Librerías"
   ]
  },
  {
   "cell_type": "code",
   "execution_count": 1,
   "metadata": {
    "colab": {},
    "colab_type": "code",
    "id": "9sBe2PMU4lA2"
   },
   "outputs": [],
   "source": [
    "import numpy as np\n",
    "import scipy as sp\n",
    "import pandas as pd\n",
    "import matplotlib.pyplot as plt\n",
    "import seaborn as sns\n",
    "from sklearn.model_selection import train_test_split\n",
    "from sklearn.metrics import classification_report, confusion_matrix, roc_curve, auc\n",
    "from sklearn.model_selection import train_test_split\n",
    "from sklearn.metrics import confusion_matrix\n",
    "from sklearn.utils.multiclass import unique_labels\n",
    "from sklearn.linear_model import LogisticRegression\n",
    "from sklearn.ensemble import RandomForestClassifier, GradientBoostingClassifier\n",
    "from sklearn.pipeline import Pipeline\n",
    "from sklearn.model_selection import RandomizedSearchCV\n",
    "from scipy.stats import randint \n",
    "#from hypopt import GridSearch #para poder usar una muestra de validación y no CV\n",
    "%matplotlib inline  \n",
    "sns.set() #hace que los gráficos queden más bonitos\n"
   ]
  },
  {
   "cell_type": "markdown",
   "metadata": {
    "colab_type": "text",
    "id": "U_q-TfM6MvbP"
   },
   "source": [
    "#### Funciones auxiliares"
   ]
  },
  {
   "cell_type": "code",
   "execution_count": 2,
   "metadata": {
    "colab": {},
    "colab_type": "code",
    "id": "dpm4b-b6JICS"
   },
   "outputs": [],
   "source": [
    "def plot_confusion_matrix(y_true, y_pred, classes,\n",
    "                          normalize=False,\n",
    "                          title=None,\n",
    "                          cmap=plt.cm.Blues):\n",
    "    \"\"\"\n",
    "    This function prints and plots the confusion matrix.\n",
    "    Normalization can be applied by setting `normalize=True`.\n",
    "    \"\"\"\n",
    "    if not title:\n",
    "        if normalize:\n",
    "            title = 'Normalized confusion matrix'\n",
    "        else:\n",
    "            title = 'Confusion matrix, without normalization'\n",
    "\n",
    "    # Compute confusion matrix\n",
    "    cm = confusion_matrix(y_true, y_pred)\n",
    "    # Only use the labels that appear in the data\n",
    "    classes = classes[unique_labels(y_true, y_pred)]\n",
    "    if normalize:\n",
    "        cm = cm.astype('float') / cm.sum(axis=1)[:, np.newaxis]\n",
    "        print(\"Normalized confusion matrix\")\n",
    "    else:\n",
    "        print('Confusion matrix, without normalization')\n",
    "\n",
    "    print(cm)\n",
    "\n",
    "    fig, ax = plt.subplots()\n",
    "    im = ax.imshow(cm, interpolation='nearest', cmap=cmap)\n",
    "    ax.figure.colorbar(im, ax=ax)\n",
    "    # We want to show all ticks...\n",
    "    ax.set(xticks=np.arange(cm.shape[1]),\n",
    "           yticks=np.arange(cm.shape[0]),\n",
    "           # ... and label them with the respective list entries\n",
    "           xticklabels=classes, yticklabels=classes,\n",
    "           title=title,\n",
    "           ylabel='True label',\n",
    "           xlabel='Predicted label')\n",
    "\n",
    "    # Rotate the tick labels and set their alignment.\n",
    "    plt.setp(ax.get_xticklabels(), rotation=45, ha=\"right\",\n",
    "             rotation_mode=\"anchor\")\n",
    "\n",
    "    # Loop over data dimensions and create text annotations.\n",
    "    fmt = '.2f' if normalize else 'd'\n",
    "    thresh = cm.max() / 2.\n",
    "    for i in range(cm.shape[0]):\n",
    "        for j in range(cm.shape[1]):\n",
    "            ax.text(j, i, format(cm[i, j], fmt),\n",
    "                    ha=\"center\", va=\"center\",\n",
    "                    color=\"white\" if cm[i, j] > thresh else \"black\")\n",
    "    fig.tight_layout()\n",
    "    return ax"
   ]
  },
  {
   "cell_type": "markdown",
   "metadata": {
    "colab_type": "text",
    "id": "_yn7ExM1M15n"
   },
   "source": [
    "#### Cargamos los datos y creamos el target"
   ]
  },
  {
   "cell_type": "code",
   "execution_count": 3,
   "metadata": {
    "colab": {
     "base_uri": "https://localhost:8080/",
     "height": 510
    },
    "colab_type": "code",
    "executionInfo": {
     "elapsed": 2924,
     "status": "ok",
     "timestamp": 1563524804878,
     "user": {
      "displayName": "Otto Wagner",
      "photoUrl": "https://lh3.googleusercontent.com/-17MOY4ozqqw/AAAAAAAAAAI/AAAAAAAAAAc/l7hudr051_o/s64/photo.jpg",
      "userId": "00165746663624320880"
     },
     "user_tz": -120
    },
    "id": "jcedRIIydJQ8",
    "outputId": "8a30610f-830c-4867-b80c-0a11be6aad6f"
   },
   "outputs": [
    {
     "data": {
      "text/plain": [
       "['A',\n",
       " 'B',\n",
       " 'C',\n",
       " 'D',\n",
       " 'E',\n",
       " 'F',\n",
       " 'G',\n",
       " 'H',\n",
       " 'I',\n",
       " 'J',\n",
       " 'K',\n",
       " 'L',\n",
       " 'M',\n",
       " 'N',\n",
       " 'O',\n",
       " 'P',\n",
       " 'Q',\n",
       " 'R',\n",
       " 'S',\n",
       " 'T',\n",
       " 'U',\n",
       " 'V',\n",
       " 'W',\n",
       " 'X',\n",
       " 'Y',\n",
       " 'Z',\n",
       " 'a',\n",
       " 'b',\n",
       " 'c']"
      ]
     },
     "execution_count": 3,
     "metadata": {},
     "output_type": "execute_result"
    }
   ],
   "source": [
    "[chr(x) for x in range(65, 91)] + [chr(x) for x in range(97, 100)]"
   ]
  },
  {
   "cell_type": "code",
   "execution_count": 4,
   "metadata": {
    "colab": {},
    "colab_type": "code",
    "id": "Ap6xRQKYdn2C"
   },
   "outputs": [],
   "source": [
    "col_names=[ \"clase\"] + [chr(x) for x in range(65, 91)] + [chr(x) for x in range(97, 101)]"
   ]
  },
  {
   "cell_type": "code",
   "execution_count": 5,
   "metadata": {
    "colab": {
     "base_uri": "https://localhost:8080/",
     "height": 544
    },
    "colab_type": "code",
    "executionInfo": {
     "elapsed": 2911,
     "status": "ok",
     "timestamp": 1563524804882,
     "user": {
      "displayName": "Otto Wagner",
      "photoUrl": "https://lh3.googleusercontent.com/-17MOY4ozqqw/AAAAAAAAAAI/AAAAAAAAAAc/l7hudr051_o/s64/photo.jpg",
      "userId": "00165746663624320880"
     },
     "user_tz": -120
    },
    "id": "VIAduGd8eGtg",
    "outputId": "d81dbac6-8101-4145-bb69-3f1c3b4bd8ba"
   },
   "outputs": [
    {
     "data": {
      "text/plain": [
       "['clase',\n",
       " 'A',\n",
       " 'B',\n",
       " 'C',\n",
       " 'D',\n",
       " 'E',\n",
       " 'F',\n",
       " 'G',\n",
       " 'H',\n",
       " 'I',\n",
       " 'J',\n",
       " 'K',\n",
       " 'L',\n",
       " 'M',\n",
       " 'N',\n",
       " 'O',\n",
       " 'P',\n",
       " 'Q',\n",
       " 'R',\n",
       " 'S',\n",
       " 'T',\n",
       " 'U',\n",
       " 'V',\n",
       " 'W',\n",
       " 'X',\n",
       " 'Y',\n",
       " 'Z',\n",
       " 'a',\n",
       " 'b',\n",
       " 'c',\n",
       " 'd']"
      ]
     },
     "execution_count": 5,
     "metadata": {},
     "output_type": "execute_result"
    }
   ],
   "source": [
    "col_names"
   ]
  },
  {
   "cell_type": "code",
   "execution_count": 6,
   "metadata": {
    "colab": {},
    "colab_type": "code",
    "id": "tkqNZpDuJKAh"
   },
   "outputs": [],
   "source": [
    "#https://archive.ics.uci.edu/ml/machine-learning-databases/breast-cancer-wisconsin/\n",
    "url = \"https://archive.ics.uci.edu/ml/machine-learning-databases/breast-cancer-wisconsin/wdbc.data\"\n",
    "# load dataset into Pandas DataFrame\n",
    "df = pd.read_csv(url, names=col_names)"
   ]
  },
  {
   "cell_type": "code",
   "execution_count": 7,
   "metadata": {
    "colab": {
     "base_uri": "https://localhost:8080/",
     "height": 224
    },
    "colab_type": "code",
    "executionInfo": {
     "elapsed": 2894,
     "status": "ok",
     "timestamp": 1563524804885,
     "user": {
      "displayName": "Otto Wagner",
      "photoUrl": "https://lh3.googleusercontent.com/-17MOY4ozqqw/AAAAAAAAAAI/AAAAAAAAAAc/l7hudr051_o/s64/photo.jpg",
      "userId": "00165746663624320880"
     },
     "user_tz": -120
    },
    "id": "v2hpwcMXc0AC",
    "outputId": "60a6f638-e835-4258-9826-778d385974d3"
   },
   "outputs": [
    {
     "data": {
      "text/html": [
       "<div>\n",
       "<style scoped>\n",
       "    .dataframe tbody tr th:only-of-type {\n",
       "        vertical-align: middle;\n",
       "    }\n",
       "\n",
       "    .dataframe tbody tr th {\n",
       "        vertical-align: top;\n",
       "    }\n",
       "\n",
       "    .dataframe thead th {\n",
       "        text-align: right;\n",
       "    }\n",
       "</style>\n",
       "<table border=\"1\" class=\"dataframe\">\n",
       "  <thead>\n",
       "    <tr style=\"text-align: right;\">\n",
       "      <th></th>\n",
       "      <th>clase</th>\n",
       "      <th>A</th>\n",
       "      <th>B</th>\n",
       "      <th>C</th>\n",
       "      <th>D</th>\n",
       "      <th>E</th>\n",
       "      <th>F</th>\n",
       "      <th>G</th>\n",
       "      <th>H</th>\n",
       "      <th>I</th>\n",
       "      <th>...</th>\n",
       "      <th>U</th>\n",
       "      <th>V</th>\n",
       "      <th>W</th>\n",
       "      <th>X</th>\n",
       "      <th>Y</th>\n",
       "      <th>Z</th>\n",
       "      <th>a</th>\n",
       "      <th>b</th>\n",
       "      <th>c</th>\n",
       "      <th>d</th>\n",
       "    </tr>\n",
       "  </thead>\n",
       "  <tbody>\n",
       "    <tr>\n",
       "      <th>842302</th>\n",
       "      <td>M</td>\n",
       "      <td>17.99</td>\n",
       "      <td>10.38</td>\n",
       "      <td>122.80</td>\n",
       "      <td>1001.0</td>\n",
       "      <td>0.11840</td>\n",
       "      <td>0.27760</td>\n",
       "      <td>0.3001</td>\n",
       "      <td>0.14710</td>\n",
       "      <td>0.2419</td>\n",
       "      <td>...</td>\n",
       "      <td>25.38</td>\n",
       "      <td>17.33</td>\n",
       "      <td>184.60</td>\n",
       "      <td>2019.0</td>\n",
       "      <td>0.1622</td>\n",
       "      <td>0.6656</td>\n",
       "      <td>0.7119</td>\n",
       "      <td>0.2654</td>\n",
       "      <td>0.4601</td>\n",
       "      <td>0.11890</td>\n",
       "    </tr>\n",
       "    <tr>\n",
       "      <th>842517</th>\n",
       "      <td>M</td>\n",
       "      <td>20.57</td>\n",
       "      <td>17.77</td>\n",
       "      <td>132.90</td>\n",
       "      <td>1326.0</td>\n",
       "      <td>0.08474</td>\n",
       "      <td>0.07864</td>\n",
       "      <td>0.0869</td>\n",
       "      <td>0.07017</td>\n",
       "      <td>0.1812</td>\n",
       "      <td>...</td>\n",
       "      <td>24.99</td>\n",
       "      <td>23.41</td>\n",
       "      <td>158.80</td>\n",
       "      <td>1956.0</td>\n",
       "      <td>0.1238</td>\n",
       "      <td>0.1866</td>\n",
       "      <td>0.2416</td>\n",
       "      <td>0.1860</td>\n",
       "      <td>0.2750</td>\n",
       "      <td>0.08902</td>\n",
       "    </tr>\n",
       "    <tr>\n",
       "      <th>84300903</th>\n",
       "      <td>M</td>\n",
       "      <td>19.69</td>\n",
       "      <td>21.25</td>\n",
       "      <td>130.00</td>\n",
       "      <td>1203.0</td>\n",
       "      <td>0.10960</td>\n",
       "      <td>0.15990</td>\n",
       "      <td>0.1974</td>\n",
       "      <td>0.12790</td>\n",
       "      <td>0.2069</td>\n",
       "      <td>...</td>\n",
       "      <td>23.57</td>\n",
       "      <td>25.53</td>\n",
       "      <td>152.50</td>\n",
       "      <td>1709.0</td>\n",
       "      <td>0.1444</td>\n",
       "      <td>0.4245</td>\n",
       "      <td>0.4504</td>\n",
       "      <td>0.2430</td>\n",
       "      <td>0.3613</td>\n",
       "      <td>0.08758</td>\n",
       "    </tr>\n",
       "    <tr>\n",
       "      <th>84348301</th>\n",
       "      <td>M</td>\n",
       "      <td>11.42</td>\n",
       "      <td>20.38</td>\n",
       "      <td>77.58</td>\n",
       "      <td>386.1</td>\n",
       "      <td>0.14250</td>\n",
       "      <td>0.28390</td>\n",
       "      <td>0.2414</td>\n",
       "      <td>0.10520</td>\n",
       "      <td>0.2597</td>\n",
       "      <td>...</td>\n",
       "      <td>14.91</td>\n",
       "      <td>26.50</td>\n",
       "      <td>98.87</td>\n",
       "      <td>567.7</td>\n",
       "      <td>0.2098</td>\n",
       "      <td>0.8663</td>\n",
       "      <td>0.6869</td>\n",
       "      <td>0.2575</td>\n",
       "      <td>0.6638</td>\n",
       "      <td>0.17300</td>\n",
       "    </tr>\n",
       "    <tr>\n",
       "      <th>84358402</th>\n",
       "      <td>M</td>\n",
       "      <td>20.29</td>\n",
       "      <td>14.34</td>\n",
       "      <td>135.10</td>\n",
       "      <td>1297.0</td>\n",
       "      <td>0.10030</td>\n",
       "      <td>0.13280</td>\n",
       "      <td>0.1980</td>\n",
       "      <td>0.10430</td>\n",
       "      <td>0.1809</td>\n",
       "      <td>...</td>\n",
       "      <td>22.54</td>\n",
       "      <td>16.67</td>\n",
       "      <td>152.20</td>\n",
       "      <td>1575.0</td>\n",
       "      <td>0.1374</td>\n",
       "      <td>0.2050</td>\n",
       "      <td>0.4000</td>\n",
       "      <td>0.1625</td>\n",
       "      <td>0.2364</td>\n",
       "      <td>0.07678</td>\n",
       "    </tr>\n",
       "  </tbody>\n",
       "</table>\n",
       "<p>5 rows × 31 columns</p>\n",
       "</div>"
      ],
      "text/plain": [
       "         clase      A      B       C       D        E        F       G  \\\n",
       "842302       M  17.99  10.38  122.80  1001.0  0.11840  0.27760  0.3001   \n",
       "842517       M  20.57  17.77  132.90  1326.0  0.08474  0.07864  0.0869   \n",
       "84300903     M  19.69  21.25  130.00  1203.0  0.10960  0.15990  0.1974   \n",
       "84348301     M  11.42  20.38   77.58   386.1  0.14250  0.28390  0.2414   \n",
       "84358402     M  20.29  14.34  135.10  1297.0  0.10030  0.13280  0.1980   \n",
       "\n",
       "                H       I  ...      U      V       W       X       Y       Z  \\\n",
       "842302    0.14710  0.2419  ...  25.38  17.33  184.60  2019.0  0.1622  0.6656   \n",
       "842517    0.07017  0.1812  ...  24.99  23.41  158.80  1956.0  0.1238  0.1866   \n",
       "84300903  0.12790  0.2069  ...  23.57  25.53  152.50  1709.0  0.1444  0.4245   \n",
       "84348301  0.10520  0.2597  ...  14.91  26.50   98.87   567.7  0.2098  0.8663   \n",
       "84358402  0.10430  0.1809  ...  22.54  16.67  152.20  1575.0  0.1374  0.2050   \n",
       "\n",
       "               a       b       c        d  \n",
       "842302    0.7119  0.2654  0.4601  0.11890  \n",
       "842517    0.2416  0.1860  0.2750  0.08902  \n",
       "84300903  0.4504  0.2430  0.3613  0.08758  \n",
       "84348301  0.6869  0.2575  0.6638  0.17300  \n",
       "84358402  0.4000  0.1625  0.2364  0.07678  \n",
       "\n",
       "[5 rows x 31 columns]"
      ]
     },
     "execution_count": 7,
     "metadata": {},
     "output_type": "execute_result"
    }
   ],
   "source": [
    "df.head()"
   ]
  },
  {
   "cell_type": "code",
   "execution_count": 8,
   "metadata": {
    "colab": {
     "base_uri": "https://localhost:8080/",
     "height": 34
    },
    "colab_type": "code",
    "executionInfo": {
     "elapsed": 2884,
     "status": "ok",
     "timestamp": 1563524804887,
     "user": {
      "displayName": "Otto Wagner",
      "photoUrl": "https://lh3.googleusercontent.com/-17MOY4ozqqw/AAAAAAAAAAI/AAAAAAAAAAc/l7hudr051_o/s64/photo.jpg",
      "userId": "00165746663624320880"
     },
     "user_tz": -120
    },
    "id": "ry_eLhII6ha3",
    "outputId": "7014f05f-1967-4009-ac56-e19a1f585147"
   },
   "outputs": [
    {
     "data": {
      "text/plain": [
       "(569, 31)"
      ]
     },
     "execution_count": 8,
     "metadata": {},
     "output_type": "execute_result"
    }
   ],
   "source": [
    "df.shape"
   ]
  },
  {
   "cell_type": "code",
   "execution_count": 9,
   "metadata": {
    "colab": {
     "base_uri": "https://localhost:8080/",
     "height": 34
    },
    "colab_type": "code",
    "executionInfo": {
     "elapsed": 2872,
     "status": "ok",
     "timestamp": 1563524804887,
     "user": {
      "displayName": "Otto Wagner",
      "photoUrl": "https://lh3.googleusercontent.com/-17MOY4ozqqw/AAAAAAAAAAI/AAAAAAAAAAc/l7hudr051_o/s64/photo.jpg",
      "userId": "00165746663624320880"
     },
     "user_tz": -120
    },
    "id": "w-GXD1-eH3ar",
    "outputId": "71919e4b-e166-420c-ad95-25c14c153c94"
   },
   "outputs": [
    {
     "data": {
      "text/plain": [
       "array(['M', 'B'], dtype=object)"
      ]
     },
     "execution_count": 9,
     "metadata": {},
     "output_type": "execute_result"
    }
   ],
   "source": [
    "df.clase.unique()"
   ]
  },
  {
   "cell_type": "code",
   "execution_count": null,
   "metadata": {
    "colab": {},
    "colab_type": "code",
    "id": "dpiSQ8wA4rgY"
   },
   "outputs": [],
   "source": []
  },
  {
   "cell_type": "code",
   "execution_count": 10,
   "metadata": {
    "colab": {},
    "colab_type": "code",
    "id": "H3w22J3w4riy"
   },
   "outputs": [],
   "source": [
    "df_X = df[ [chr(x) for x in range(65, 91)] + [chr(x) for x in range(97, 101)]]\n",
    "df_y = df[['clase']]"
   ]
  },
  {
   "cell_type": "code",
   "execution_count": 11,
   "metadata": {
    "colab": {
     "base_uri": "https://localhost:8080/",
     "height": 224
    },
    "colab_type": "code",
    "executionInfo": {
     "elapsed": 2864,
     "status": "ok",
     "timestamp": 1563524804892,
     "user": {
      "displayName": "Otto Wagner",
      "photoUrl": "https://lh3.googleusercontent.com/-17MOY4ozqqw/AAAAAAAAAAI/AAAAAAAAAAc/l7hudr051_o/s64/photo.jpg",
      "userId": "00165746663624320880"
     },
     "user_tz": -120
    },
    "id": "AQ2LMPDJ4rlX",
    "outputId": "10f5aea5-f6a7-49d0-f59d-2b5aa33dba17"
   },
   "outputs": [
    {
     "data": {
      "text/html": [
       "<div>\n",
       "<style scoped>\n",
       "    .dataframe tbody tr th:only-of-type {\n",
       "        vertical-align: middle;\n",
       "    }\n",
       "\n",
       "    .dataframe tbody tr th {\n",
       "        vertical-align: top;\n",
       "    }\n",
       "\n",
       "    .dataframe thead th {\n",
       "        text-align: right;\n",
       "    }\n",
       "</style>\n",
       "<table border=\"1\" class=\"dataframe\">\n",
       "  <thead>\n",
       "    <tr style=\"text-align: right;\">\n",
       "      <th></th>\n",
       "      <th>A</th>\n",
       "      <th>B</th>\n",
       "      <th>C</th>\n",
       "      <th>D</th>\n",
       "      <th>E</th>\n",
       "      <th>F</th>\n",
       "      <th>G</th>\n",
       "      <th>H</th>\n",
       "      <th>I</th>\n",
       "      <th>J</th>\n",
       "      <th>...</th>\n",
       "      <th>U</th>\n",
       "      <th>V</th>\n",
       "      <th>W</th>\n",
       "      <th>X</th>\n",
       "      <th>Y</th>\n",
       "      <th>Z</th>\n",
       "      <th>a</th>\n",
       "      <th>b</th>\n",
       "      <th>c</th>\n",
       "      <th>d</th>\n",
       "    </tr>\n",
       "  </thead>\n",
       "  <tbody>\n",
       "    <tr>\n",
       "      <th>842302</th>\n",
       "      <td>17.99</td>\n",
       "      <td>10.38</td>\n",
       "      <td>122.80</td>\n",
       "      <td>1001.0</td>\n",
       "      <td>0.11840</td>\n",
       "      <td>0.27760</td>\n",
       "      <td>0.3001</td>\n",
       "      <td>0.14710</td>\n",
       "      <td>0.2419</td>\n",
       "      <td>0.07871</td>\n",
       "      <td>...</td>\n",
       "      <td>25.38</td>\n",
       "      <td>17.33</td>\n",
       "      <td>184.60</td>\n",
       "      <td>2019.0</td>\n",
       "      <td>0.1622</td>\n",
       "      <td>0.6656</td>\n",
       "      <td>0.7119</td>\n",
       "      <td>0.2654</td>\n",
       "      <td>0.4601</td>\n",
       "      <td>0.11890</td>\n",
       "    </tr>\n",
       "    <tr>\n",
       "      <th>842517</th>\n",
       "      <td>20.57</td>\n",
       "      <td>17.77</td>\n",
       "      <td>132.90</td>\n",
       "      <td>1326.0</td>\n",
       "      <td>0.08474</td>\n",
       "      <td>0.07864</td>\n",
       "      <td>0.0869</td>\n",
       "      <td>0.07017</td>\n",
       "      <td>0.1812</td>\n",
       "      <td>0.05667</td>\n",
       "      <td>...</td>\n",
       "      <td>24.99</td>\n",
       "      <td>23.41</td>\n",
       "      <td>158.80</td>\n",
       "      <td>1956.0</td>\n",
       "      <td>0.1238</td>\n",
       "      <td>0.1866</td>\n",
       "      <td>0.2416</td>\n",
       "      <td>0.1860</td>\n",
       "      <td>0.2750</td>\n",
       "      <td>0.08902</td>\n",
       "    </tr>\n",
       "    <tr>\n",
       "      <th>84300903</th>\n",
       "      <td>19.69</td>\n",
       "      <td>21.25</td>\n",
       "      <td>130.00</td>\n",
       "      <td>1203.0</td>\n",
       "      <td>0.10960</td>\n",
       "      <td>0.15990</td>\n",
       "      <td>0.1974</td>\n",
       "      <td>0.12790</td>\n",
       "      <td>0.2069</td>\n",
       "      <td>0.05999</td>\n",
       "      <td>...</td>\n",
       "      <td>23.57</td>\n",
       "      <td>25.53</td>\n",
       "      <td>152.50</td>\n",
       "      <td>1709.0</td>\n",
       "      <td>0.1444</td>\n",
       "      <td>0.4245</td>\n",
       "      <td>0.4504</td>\n",
       "      <td>0.2430</td>\n",
       "      <td>0.3613</td>\n",
       "      <td>0.08758</td>\n",
       "    </tr>\n",
       "    <tr>\n",
       "      <th>84348301</th>\n",
       "      <td>11.42</td>\n",
       "      <td>20.38</td>\n",
       "      <td>77.58</td>\n",
       "      <td>386.1</td>\n",
       "      <td>0.14250</td>\n",
       "      <td>0.28390</td>\n",
       "      <td>0.2414</td>\n",
       "      <td>0.10520</td>\n",
       "      <td>0.2597</td>\n",
       "      <td>0.09744</td>\n",
       "      <td>...</td>\n",
       "      <td>14.91</td>\n",
       "      <td>26.50</td>\n",
       "      <td>98.87</td>\n",
       "      <td>567.7</td>\n",
       "      <td>0.2098</td>\n",
       "      <td>0.8663</td>\n",
       "      <td>0.6869</td>\n",
       "      <td>0.2575</td>\n",
       "      <td>0.6638</td>\n",
       "      <td>0.17300</td>\n",
       "    </tr>\n",
       "    <tr>\n",
       "      <th>84358402</th>\n",
       "      <td>20.29</td>\n",
       "      <td>14.34</td>\n",
       "      <td>135.10</td>\n",
       "      <td>1297.0</td>\n",
       "      <td>0.10030</td>\n",
       "      <td>0.13280</td>\n",
       "      <td>0.1980</td>\n",
       "      <td>0.10430</td>\n",
       "      <td>0.1809</td>\n",
       "      <td>0.05883</td>\n",
       "      <td>...</td>\n",
       "      <td>22.54</td>\n",
       "      <td>16.67</td>\n",
       "      <td>152.20</td>\n",
       "      <td>1575.0</td>\n",
       "      <td>0.1374</td>\n",
       "      <td>0.2050</td>\n",
       "      <td>0.4000</td>\n",
       "      <td>0.1625</td>\n",
       "      <td>0.2364</td>\n",
       "      <td>0.07678</td>\n",
       "    </tr>\n",
       "  </tbody>\n",
       "</table>\n",
       "<p>5 rows × 30 columns</p>\n",
       "</div>"
      ],
      "text/plain": [
       "              A      B       C       D        E        F       G        H  \\\n",
       "842302    17.99  10.38  122.80  1001.0  0.11840  0.27760  0.3001  0.14710   \n",
       "842517    20.57  17.77  132.90  1326.0  0.08474  0.07864  0.0869  0.07017   \n",
       "84300903  19.69  21.25  130.00  1203.0  0.10960  0.15990  0.1974  0.12790   \n",
       "84348301  11.42  20.38   77.58   386.1  0.14250  0.28390  0.2414  0.10520   \n",
       "84358402  20.29  14.34  135.10  1297.0  0.10030  0.13280  0.1980  0.10430   \n",
       "\n",
       "               I        J  ...      U      V       W       X       Y       Z  \\\n",
       "842302    0.2419  0.07871  ...  25.38  17.33  184.60  2019.0  0.1622  0.6656   \n",
       "842517    0.1812  0.05667  ...  24.99  23.41  158.80  1956.0  0.1238  0.1866   \n",
       "84300903  0.2069  0.05999  ...  23.57  25.53  152.50  1709.0  0.1444  0.4245   \n",
       "84348301  0.2597  0.09744  ...  14.91  26.50   98.87   567.7  0.2098  0.8663   \n",
       "84358402  0.1809  0.05883  ...  22.54  16.67  152.20  1575.0  0.1374  0.2050   \n",
       "\n",
       "               a       b       c        d  \n",
       "842302    0.7119  0.2654  0.4601  0.11890  \n",
       "842517    0.2416  0.1860  0.2750  0.08902  \n",
       "84300903  0.4504  0.2430  0.3613  0.08758  \n",
       "84348301  0.6869  0.2575  0.6638  0.17300  \n",
       "84358402  0.4000  0.1625  0.2364  0.07678  \n",
       "\n",
       "[5 rows x 30 columns]"
      ]
     },
     "execution_count": 11,
     "metadata": {},
     "output_type": "execute_result"
    }
   ],
   "source": [
    "df_X.head()"
   ]
  },
  {
   "cell_type": "code",
   "execution_count": 12,
   "metadata": {
    "colab": {
     "base_uri": "https://localhost:8080/",
     "height": 204
    },
    "colab_type": "code",
    "executionInfo": {
     "elapsed": 2853,
     "status": "ok",
     "timestamp": 1563524804893,
     "user": {
      "displayName": "Otto Wagner",
      "photoUrl": "https://lh3.googleusercontent.com/-17MOY4ozqqw/AAAAAAAAAAI/AAAAAAAAAAc/l7hudr051_o/s64/photo.jpg",
      "userId": "00165746663624320880"
     },
     "user_tz": -120
    },
    "id": "S6sym8qx4roI",
    "outputId": "73c3ba30-a9bf-4279-d526-d4c96f9321db"
   },
   "outputs": [
    {
     "data": {
      "text/html": [
       "<div>\n",
       "<style scoped>\n",
       "    .dataframe tbody tr th:only-of-type {\n",
       "        vertical-align: middle;\n",
       "    }\n",
       "\n",
       "    .dataframe tbody tr th {\n",
       "        vertical-align: top;\n",
       "    }\n",
       "\n",
       "    .dataframe thead th {\n",
       "        text-align: right;\n",
       "    }\n",
       "</style>\n",
       "<table border=\"1\" class=\"dataframe\">\n",
       "  <thead>\n",
       "    <tr style=\"text-align: right;\">\n",
       "      <th></th>\n",
       "      <th>clase</th>\n",
       "    </tr>\n",
       "  </thead>\n",
       "  <tbody>\n",
       "    <tr>\n",
       "      <th>842302</th>\n",
       "      <td>M</td>\n",
       "    </tr>\n",
       "    <tr>\n",
       "      <th>842517</th>\n",
       "      <td>M</td>\n",
       "    </tr>\n",
       "    <tr>\n",
       "      <th>84300903</th>\n",
       "      <td>M</td>\n",
       "    </tr>\n",
       "    <tr>\n",
       "      <th>84348301</th>\n",
       "      <td>M</td>\n",
       "    </tr>\n",
       "    <tr>\n",
       "      <th>84358402</th>\n",
       "      <td>M</td>\n",
       "    </tr>\n",
       "  </tbody>\n",
       "</table>\n",
       "</div>"
      ],
      "text/plain": [
       "         clase\n",
       "842302       M\n",
       "842517       M\n",
       "84300903     M\n",
       "84348301     M\n",
       "84358402     M"
      ]
     },
     "execution_count": 12,
     "metadata": {},
     "output_type": "execute_result"
    }
   ],
   "source": [
    "df_y.head()"
   ]
  },
  {
   "cell_type": "code",
   "execution_count": 13,
   "metadata": {
    "colab": {
     "base_uri": "https://localhost:8080/",
     "height": 119
    },
    "colab_type": "code",
    "executionInfo": {
     "elapsed": 3224,
     "status": "ok",
     "timestamp": 1563524805274,
     "user": {
      "displayName": "Otto Wagner",
      "photoUrl": "https://lh3.googleusercontent.com/-17MOY4ozqqw/AAAAAAAAAAI/AAAAAAAAAAc/l7hudr051_o/s64/photo.jpg",
      "userId": "00165746663624320880"
     },
     "user_tz": -120
    },
    "id": "qC3Hi3DxgS9g",
    "outputId": "8a4d66d3-c383-49a3-d1e8-e1e2a7fb1aac"
   },
   "outputs": [
    {
     "name": "stderr",
     "output_type": "stream",
     "text": [
      "C:\\ProgramData\\Anaconda3\\lib\\site-packages\\pandas\\core\\generic.py:5096: SettingWithCopyWarning: \n",
      "A value is trying to be set on a copy of a slice from a DataFrame.\n",
      "Try using .loc[row_indexer,col_indexer] = value instead\n",
      "\n",
      "See the caveats in the documentation: http://pandas.pydata.org/pandas-docs/stable/indexing.html#indexing-view-versus-copy\n",
      "  self[name] = value\n"
     ]
    }
   ],
   "source": [
    "df_y.clase = (df_y.clase==\"M\")"
   ]
  },
  {
   "cell_type": "code",
   "execution_count": 14,
   "metadata": {
    "colab": {
     "base_uri": "https://localhost:8080/",
     "height": 173
    },
    "colab_type": "code",
    "executionInfo": {
     "elapsed": 3215,
     "status": "ok",
     "timestamp": 1563524805275,
     "user": {
      "displayName": "Otto Wagner",
      "photoUrl": "https://lh3.googleusercontent.com/-17MOY4ozqqw/AAAAAAAAAAI/AAAAAAAAAAc/l7hudr051_o/s64/photo.jpg",
      "userId": "00165746663624320880"
     },
     "user_tz": -120
    },
    "id": "cK2Rakt7gt0K",
    "outputId": "df06046f-3d6c-4d98-bf04-c612028f00ca"
   },
   "outputs": [
    {
     "data": {
      "text/html": [
       "<div>\n",
       "<style scoped>\n",
       "    .dataframe tbody tr th:only-of-type {\n",
       "        vertical-align: middle;\n",
       "    }\n",
       "\n",
       "    .dataframe tbody tr th {\n",
       "        vertical-align: top;\n",
       "    }\n",
       "\n",
       "    .dataframe thead th {\n",
       "        text-align: right;\n",
       "    }\n",
       "</style>\n",
       "<table border=\"1\" class=\"dataframe\">\n",
       "  <thead>\n",
       "    <tr style=\"text-align: right;\">\n",
       "      <th></th>\n",
       "      <th>clase</th>\n",
       "    </tr>\n",
       "  </thead>\n",
       "  <tbody>\n",
       "    <tr>\n",
       "      <th>count</th>\n",
       "      <td>569</td>\n",
       "    </tr>\n",
       "    <tr>\n",
       "      <th>unique</th>\n",
       "      <td>2</td>\n",
       "    </tr>\n",
       "    <tr>\n",
       "      <th>top</th>\n",
       "      <td>False</td>\n",
       "    </tr>\n",
       "    <tr>\n",
       "      <th>freq</th>\n",
       "      <td>357</td>\n",
       "    </tr>\n",
       "  </tbody>\n",
       "</table>\n",
       "</div>"
      ],
      "text/plain": [
       "        clase\n",
       "count     569\n",
       "unique      2\n",
       "top     False\n",
       "freq      357"
      ]
     },
     "execution_count": 14,
     "metadata": {},
     "output_type": "execute_result"
    }
   ],
   "source": [
    "df_y.describe()"
   ]
  },
  {
   "cell_type": "markdown",
   "metadata": {
    "colab_type": "text",
    "id": "lbEWz4KPNGzB"
   },
   "source": [
    "#### Separamos las muestras en entrenamiento y test"
   ]
  },
  {
   "cell_type": "code",
   "execution_count": 15,
   "metadata": {
    "colab": {},
    "colab_type": "code",
    "id": "SXKSVpTn4rqh"
   },
   "outputs": [],
   "source": [
    "X_train, X_test, y_train, y_test = train_test_split( df_X, df_y, test_size=0.25, random_state=42)"
   ]
  },
  {
   "cell_type": "code",
   "execution_count": 16,
   "metadata": {
    "colab": {
     "base_uri": "https://localhost:8080/",
     "height": 34
    },
    "colab_type": "code",
    "executionInfo": {
     "elapsed": 3209,
     "status": "ok",
     "timestamp": 1563524805279,
     "user": {
      "displayName": "Otto Wagner",
      "photoUrl": "https://lh3.googleusercontent.com/-17MOY4ozqqw/AAAAAAAAAAI/AAAAAAAAAAc/l7hudr051_o/s64/photo.jpg",
      "userId": "00165746663624320880"
     },
     "user_tz": -120
    },
    "id": "qRysFuSR4rti",
    "outputId": "08779451-a432-4943-a0f2-b93312c1121c"
   },
   "outputs": [
    {
     "data": {
      "text/plain": [
       "((426, 30), (143, 30), (426, 1), (143, 1))"
      ]
     },
     "execution_count": 16,
     "metadata": {},
     "output_type": "execute_result"
    }
   ],
   "source": [
    "X_train.shape, X_test.shape, y_train.shape, y_test.shape"
   ]
  },
  {
   "cell_type": "markdown",
   "metadata": {
    "colab_type": "text",
    "id": "JJ88AEcpNQhX"
   },
   "source": [
    "## Regresión Logística"
   ]
  },
  {
   "cell_type": "code",
   "execution_count": 17,
   "metadata": {
    "colab": {
     "base_uri": "https://localhost:8080/",
     "height": 51
    },
    "colab_type": "code",
    "executionInfo": {
     "elapsed": 3194,
     "status": "ok",
     "timestamp": 1563524805279,
     "user": {
      "displayName": "Otto Wagner",
      "photoUrl": "https://lh3.googleusercontent.com/-17MOY4ozqqw/AAAAAAAAAAI/AAAAAAAAAAc/l7hudr051_o/s64/photo.jpg",
      "userId": "00165746663624320880"
     },
     "user_tz": -120
    },
    "id": "KAYhgyls6YQJ",
    "outputId": "b55cb9a3-9b27-4af6-8a0d-e8dbac3c8cdd"
   },
   "outputs": [
    {
     "name": "stderr",
     "output_type": "stream",
     "text": [
      "C:\\ProgramData\\Anaconda3\\lib\\site-packages\\sklearn\\utils\\validation.py:761: DataConversionWarning: A column-vector y was passed when a 1d array was expected. Please change the shape of y to (n_samples, ), for example using ravel().\n",
      "  y = column_or_1d(y, warn=True)\n"
     ]
    }
   ],
   "source": [
    "from sklearn.linear_model import LogisticRegression\n",
    "\n",
    "clf = LogisticRegression(random_state=0, solver='liblinear',\n",
    "                         multi_class='auto').fit(X_train, y_train)\n"
   ]
  },
  {
   "cell_type": "markdown",
   "metadata": {
    "colab_type": "text",
    "id": "3Zh9X3T5Nbdh"
   },
   "source": [
    "### Performace"
   ]
  },
  {
   "cell_type": "code",
   "execution_count": 18,
   "metadata": {
    "colab": {
     "base_uri": "https://localhost:8080/",
     "height": 34
    },
    "colab_type": "code",
    "executionInfo": {
     "elapsed": 3182,
     "status": "ok",
     "timestamp": 1563524805280,
     "user": {
      "displayName": "Otto Wagner",
      "photoUrl": "https://lh3.googleusercontent.com/-17MOY4ozqqw/AAAAAAAAAAI/AAAAAAAAAAc/l7hudr051_o/s64/photo.jpg",
      "userId": "00165746663624320880"
     },
     "user_tz": -120
    },
    "id": "9qy02QFO7Ak4",
    "outputId": "81e7f86c-b59c-4c49-e97e-4eab665af9fb"
   },
   "outputs": [
    {
     "data": {
      "text/plain": [
       "0.958041958041958"
      ]
     },
     "execution_count": 18,
     "metadata": {},
     "output_type": "execute_result"
    }
   ],
   "source": [
    " clf.score(X_test, y_test)"
   ]
  },
  {
   "cell_type": "code",
   "execution_count": 19,
   "metadata": {
    "colab": {
     "base_uri": "https://localhost:8080/",
     "height": 170
    },
    "colab_type": "code",
    "executionInfo": {
     "elapsed": 3168,
     "status": "ok",
     "timestamp": 1563524805280,
     "user": {
      "displayName": "Otto Wagner",
      "photoUrl": "https://lh3.googleusercontent.com/-17MOY4ozqqw/AAAAAAAAAAI/AAAAAAAAAAc/l7hudr051_o/s64/photo.jpg",
      "userId": "00165746663624320880"
     },
     "user_tz": -120
    },
    "id": "at2Kel54Gfuk",
    "outputId": "146c8413-9345-4059-8fe8-260ff624ae8c"
   },
   "outputs": [
    {
     "name": "stdout",
     "output_type": "stream",
     "text": [
      "              precision    recall  f1-score   support\n",
      "\n",
      "       False       0.96      0.98      0.97        89\n",
      "        True       0.96      0.93      0.94        54\n",
      "\n",
      "   micro avg       0.96      0.96      0.96       143\n",
      "   macro avg       0.96      0.95      0.96       143\n",
      "weighted avg       0.96      0.96      0.96       143\n",
      "\n"
     ]
    }
   ],
   "source": [
    "print(classification_report(y_test, clf.predict(X_test) ))"
   ]
  },
  {
   "cell_type": "markdown",
   "metadata": {
    "colab_type": "text",
    "id": "xLgnugH-Nj23"
   },
   "source": [
    "### Matiz de Confusión"
   ]
  },
  {
   "cell_type": "code",
   "execution_count": 20,
   "metadata": {
    "colab": {
     "base_uri": "https://localhost:8080/",
     "height": 688
    },
    "colab_type": "code",
    "executionInfo": {
     "elapsed": 4456,
     "status": "ok",
     "timestamp": 1563524806583,
     "user": {
      "displayName": "Otto Wagner",
      "photoUrl": "https://lh3.googleusercontent.com/-17MOY4ozqqw/AAAAAAAAAAI/AAAAAAAAAAc/l7hudr051_o/s64/photo.jpg",
      "userId": "00165746663624320880"
     },
     "user_tz": -120
    },
    "id": "GISW_swUJeeS",
    "outputId": "f08892ca-2a53-4287-8af5-8a0cbbf0ddde"
   },
   "outputs": [
    {
     "name": "stdout",
     "output_type": "stream",
     "text": [
      "Confusion matrix, without normalization\n",
      "[[87  2]\n",
      " [ 4 50]]\n",
      "Normalized confusion matrix\n",
      "[[0.97752809 0.02247191]\n",
      " [0.07407407 0.92592593]]\n"
     ]
    },
    {
     "data": {
      "text/plain": [
       "<matplotlib.axes._subplots.AxesSubplot at 0x28df6716e80>"
      ]
     },
     "execution_count": 20,
     "metadata": {},
     "output_type": "execute_result"
    },
    {
     "data": {
      "image/png": "[encoded data removed]",
      "text/plain": [
       "<Figure size 432x288 with 2 Axes>"
      ]
     },
     "metadata": {
      "needs_background": "light"
     },
     "output_type": "display_data"
    },
    {
     "data": {
      "image/png": "[encoded data removed]",
      "text/plain": [
       "<Figure size 432x288 with 2 Axes>"
      ]
     },
     "metadata": {
      "needs_background": "light"
     },
     "output_type": "display_data"
    }
   ],
   "source": [
    "class_names = df['clase'].unique()\n",
    "# Plot non-normalized confusion matrix\n",
    "plot_confusion_matrix(y_test, clf.predict(X_test), classes=class_names,\n",
    "                      title='Confusion matrix, without normalization')\n",
    "\n",
    "# Plot normalized confusion matrix\n",
    "plot_confusion_matrix(y_test, clf.predict(X_test), classes=class_names, normalize=True,\n",
    "                      title='Normalized confusion matrix')"
   ]
  },
  {
   "cell_type": "markdown",
   "metadata": {
    "colab_type": "text",
    "id": "Q-xEcJXzNr6g"
   },
   "source": [
    "### ROC"
   ]
  },
  {
   "cell_type": "code",
   "execution_count": 21,
   "metadata": {
    "colab": {
     "base_uri": "https://localhost:8080/",
     "height": 558
    },
    "colab_type": "code",
    "executionInfo": {
     "elapsed": 4442,
     "status": "ok",
     "timestamp": 1563524806584,
     "user": {
      "displayName": "Otto Wagner",
      "photoUrl": "https://lh3.googleusercontent.com/-17MOY4ozqqw/AAAAAAAAAAI/AAAAAAAAAAc/l7hudr051_o/s64/photo.jpg",
      "userId": "00165746663624320880"
     },
     "user_tz": -120
    },
    "id": "TlTuHRaqG05U",
    "outputId": "a3c5e423-90b3-4515-df2e-bf9c5dd8c37d"
   },
   "outputs": [
    {
     "data": {
      "image/png": "[encoded data removed]",
      "text/plain": [
       "<Figure size 432x288 with 1 Axes>"
      ]
     },
     "metadata": {
      "tags": []
     },
     "output_type": "display_data"
    },
    {
     "data": {
      "image/png": "[encoded data removed]",
      "text/plain": [
       "<Figure size 432x288 with 1 Axes>"
      ]
     },
     "metadata": {
      "tags": []
     },
     "output_type": "display_data"
    }
   ],
   "source": [
    "#y_pred_proba = LR_model.predict(X_test_sc)\n",
    "#fpr, tpr, thresholds = roc_curve(y_test, y_pred_proba)\n",
    "fpr, tpr, thresholds = roc_curve(y_test, clf.predict_proba(X_test) [:,1])\n",
    "\n",
    "fig, ax1 = plt.subplots(1,1)\n",
    "ax1.plot(fpr, tpr, 'r-.', label = 'Regresión Logística (%2.2f)' % auc(fpr, tpr))\n",
    "ax1.set_xlabel('False Positive Rate')\n",
    "ax1.set_ylabel('True Positive Rate')\n",
    "ax1.set_title('ROC in test')\n",
    "ax1.plot(fpr, fpr, 'b-', label = 'Random Guess')\n",
    "ax1.legend()\n",
    "plt.show()\n",
    "\n",
    "plt.hist(clf.predict_proba(X_test)[:,1])\n",
    "plt.show()"
   ]
  },
  {
   "cell_type": "code",
   "execution_count": 0,
   "metadata": {
    "colab": {},
    "colab_type": "code",
    "id": "xkWTkFyuN38I"
   },
   "outputs": [],
   "source": []
  },
  {
   "cell_type": "markdown",
   "metadata": {
    "colab_type": "text",
    "id": "ye01TzUtN6hR"
   },
   "source": [
    "## SVM"
   ]
  },
  {
   "cell_type": "code",
   "execution_count": 21,
   "metadata": {
    "colab": {
     "base_uri": "https://localhost:8080/",
     "height": 51
    },
    "colab_type": "code",
    "executionInfo": {
     "elapsed": 19093,
     "status": "ok",
     "timestamp": 1563524821248,
     "user": {
      "displayName": "Otto Wagner",
      "photoUrl": "https://lh3.googleusercontent.com/-17MOY4ozqqw/AAAAAAAAAAI/AAAAAAAAAAc/l7hudr051_o/s64/photo.jpg",
      "userId": "00165746663624320880"
     },
     "user_tz": -120
    },
    "id": "6mGlQ0YrN6hT",
    "outputId": "83995915-0e03-4534-c1c9-b91ceafe1768"
   },
   "outputs": [
    {
     "name": "stderr",
     "output_type": "stream",
     "text": [
      "C:\\ProgramData\\Anaconda3\\lib\\site-packages\\sklearn\\utils\\validation.py:761: DataConversionWarning: A column-vector y was passed when a 1d array was expected. Please change the shape of y to (n_samples, ), for example using ravel().\n",
      "  y = column_or_1d(y, warn=True)\n"
     ]
    }
   ],
   "source": [
    "from sklearn.svm import SVC\n",
    "\n",
    "clf = SVC(kernel ='linear' , gamma='auto', probability = True).fit(X_train, y_train)\n"
   ]
  },
  {
   "cell_type": "markdown",
   "metadata": {
    "colab_type": "text",
    "id": "jPg6M6FgN6hb"
   },
   "source": [
    "### Performace"
   ]
  },
  {
   "cell_type": "code",
   "execution_count": 22,
   "metadata": {
    "colab": {
     "base_uri": "https://localhost:8080/",
     "height": 34
    },
    "colab_type": "code",
    "executionInfo": {
     "elapsed": 19088,
     "status": "ok",
     "timestamp": 1563524821250,
     "user": {
      "displayName": "Otto Wagner",
      "photoUrl": "https://lh3.googleusercontent.com/-17MOY4ozqqw/AAAAAAAAAAI/AAAAAAAAAAc/l7hudr051_o/s64/photo.jpg",
      "userId": "00165746663624320880"
     },
     "user_tz": -120
    },
    "id": "LBihOarnN6hc",
    "outputId": "f0f15177-edd7-41b0-cd03-bee7b045db72"
   },
   "outputs": [
    {
     "data": {
      "text/plain": [
       "0.958041958041958"
      ]
     },
     "execution_count": 22,
     "metadata": {},
     "output_type": "execute_result"
    }
   ],
   "source": [
    " clf.score(X_test, y_test)"
   ]
  },
  {
   "cell_type": "code",
   "execution_count": 23,
   "metadata": {
    "colab": {
     "base_uri": "https://localhost:8080/",
     "height": 170
    },
    "colab_type": "code",
    "executionInfo": {
     "elapsed": 19079,
     "status": "ok",
     "timestamp": 1563524821251,
     "user": {
      "displayName": "Otto Wagner",
      "photoUrl": "https://lh3.googleusercontent.com/-17MOY4ozqqw/AAAAAAAAAAI/AAAAAAAAAAc/l7hudr051_o/s64/photo.jpg",
      "userId": "00165746663624320880"
     },
     "user_tz": -120
    },
    "id": "9nD8c--ZN6hg",
    "outputId": "a9f6caa8-287a-425a-9774-20cd10d2c25f"
   },
   "outputs": [
    {
     "name": "stdout",
     "output_type": "stream",
     "text": [
      "              precision    recall  f1-score   support\n",
      "\n",
      "       False       0.96      0.98      0.97        89\n",
      "        True       0.96      0.93      0.94        54\n",
      "\n",
      "   micro avg       0.96      0.96      0.96       143\n",
      "   macro avg       0.96      0.95      0.96       143\n",
      "weighted avg       0.96      0.96      0.96       143\n",
      "\n"
     ]
    }
   ],
   "source": [
    "print(classification_report(y_test, clf.predict(X_test) ))"
   ]
  },
  {
   "cell_type": "markdown",
   "metadata": {
    "colab_type": "text",
    "id": "I5FGfcYqN6hj"
   },
   "source": [
    "### Matiz de Confusión"
   ]
  },
  {
   "cell_type": "code",
   "execution_count": 24,
   "metadata": {
    "colab": {
     "base_uri": "https://localhost:8080/",
     "height": 688
    },
    "colab_type": "code",
    "executionInfo": {
     "elapsed": 20078,
     "status": "ok",
     "timestamp": 1563524822259,
     "user": {
      "displayName": "Otto Wagner",
      "photoUrl": "https://lh3.googleusercontent.com/-17MOY4ozqqw/AAAAAAAAAAI/AAAAAAAAAAc/l7hudr051_o/s64/photo.jpg",
      "userId": "00165746663624320880"
     },
     "user_tz": -120
    },
    "id": "Z_j-ZxvJN6hj",
    "outputId": "01cda306-8812-4d54-bcfb-c7b0743e70ab"
   },
   "outputs": [
    {
     "name": "stdout",
     "output_type": "stream",
     "text": [
      "Confusion matrix, without normalization\n",
      "[[87  2]\n",
      " [ 4 50]]\n",
      "Normalized confusion matrix\n",
      "[[0.97752809 0.02247191]\n",
      " [0.07407407 0.92592593]]\n"
     ]
    },
    {
     "data": {
      "text/plain": [
       "<matplotlib.axes._subplots.AxesSubplot at 0x28df68464a8>"
      ]
     },
     "execution_count": 24,
     "metadata": {},
     "output_type": "execute_result"
    },
    {
     "data": {
      "image/png": "[encoded data removed]",
      "text/plain": [
       "<Figure size 432x288 with 2 Axes>"
      ]
     },
     "metadata": {
      "needs_background": "light"
     },
     "output_type": "display_data"
    },
    {
     "data": {
      "image/png": "[encoded data removed]",
      "text/plain": [
       "<Figure size 432x288 with 2 Axes>"
      ]
     },
     "metadata": {
      "needs_background": "light"
     },
     "output_type": "display_data"
    }
   ],
   "source": [
    "class_names = df['clase'].unique()\n",
    "# Plot non-normalized confusion matrix\n",
    "plot_confusion_matrix(y_test, clf.predict(X_test), classes=class_names,\n",
    "                      title='Confusion matrix, without normalization')\n",
    "\n",
    "# Plot normalized confusion matrix\n",
    "plot_confusion_matrix(y_test, clf.predict(X_test), classes=class_names, normalize=True,\n",
    "                      title='Normalized confusion matrix')"
   ]
  },
  {
   "cell_type": "markdown",
   "metadata": {
    "colab_type": "text",
    "id": "Tq7qt5dTN6hq"
   },
   "source": [
    "### ROC"
   ]
  },
  {
   "cell_type": "code",
   "execution_count": 25,
   "metadata": {
    "colab": {
     "base_uri": "https://localhost:8080/",
     "height": 558
    },
    "colab_type": "code",
    "executionInfo": {
     "elapsed": 21014,
     "status": "ok",
     "timestamp": 1563524823205,
     "user": {
      "displayName": "Otto Wagner",
      "photoUrl": "https://lh3.googleusercontent.com/-17MOY4ozqqw/AAAAAAAAAAI/AAAAAAAAAAc/l7hudr051_o/s64/photo.jpg",
      "userId": "00165746663624320880"
     },
     "user_tz": -120
    },
    "id": "4HsdOvrqN6hq",
    "outputId": "1de2e4ae-a8ec-4c52-f188-e8978f14508d"
   },
   "outputs": [
    {
     "data": {
      "image/png": "[encoded data removed]",
      "text/plain": [
       "<Figure size 432x288 with 1 Axes>"
      ]
     },
     "metadata": {
      "needs_background": "light"
     },
     "output_type": "display_data"
    },
    {
     "data": {
      "image/png": "[encoded data removed]",
      "text/plain": [
       "<Figure size 432x288 with 1 Axes>"
      ]
     },
     "metadata": {
      "needs_background": "light"
     },
     "output_type": "display_data"
    }
   ],
   "source": [
    "#y_pred_proba = LR_model.predict(X_test_sc)\n",
    "#fpr, tpr, thresholds = roc_curve(y_test, y_pred_proba)\n",
    "fpr, tpr, thresholds = roc_curve(y_test, clf.predict_proba(X_test) [:,1])\n",
    "\n",
    "fig, ax1 = plt.subplots(1,1)\n",
    "ax1.plot(fpr, tpr, 'r-.', label = 'Regresión Logística (%2.2f)' % auc(fpr, tpr))\n",
    "ax1.set_xlabel('False Positive Rate')\n",
    "ax1.set_ylabel('True Positive Rate')\n",
    "ax1.set_title('ROC in test')\n",
    "ax1.plot(fpr, fpr, 'b-', label = 'Random Guess')\n",
    "ax1.legend()\n",
    "plt.show()\n",
    "\n",
    "plt.hist(clf.predict_proba(X_test)[:,1])\n",
    "plt.show()"
   ]
  },
  {
   "cell_type": "code",
   "execution_count": null,
   "metadata": {
    "colab": {},
    "colab_type": "code",
    "id": "tRszmSFZObhm"
   },
   "outputs": [],
   "source": []
  },
  {
   "cell_type": "markdown",
   "metadata": {
    "colab_type": "text",
    "id": "o_EkDdc0O8dH"
   },
   "source": [
    "## RF"
   ]
  },
  {
   "cell_type": "code",
   "execution_count": 26,
   "metadata": {
    "colab": {
     "base_uri": "https://localhost:8080/",
     "height": 85
    },
    "colab_type": "code",
    "executionInfo": {
     "elapsed": 21015,
     "status": "ok",
     "timestamp": 1563524823213,
     "user": {
      "displayName": "Otto Wagner",
      "photoUrl": "https://lh3.googleusercontent.com/-17MOY4ozqqw/AAAAAAAAAAI/AAAAAAAAAAc/l7hudr051_o/s64/photo.jpg",
      "userId": "00165746663624320880"
     },
     "user_tz": -120
    },
    "id": "qu5gzPWZO8dI",
    "outputId": "7a47331e-88cb-411d-fc4f-979b7e435b36"
   },
   "outputs": [
    {
     "name": "stderr",
     "output_type": "stream",
     "text": [
      "C:\\ProgramData\\Anaconda3\\lib\\site-packages\\sklearn\\ensemble\\forest.py:246: FutureWarning: The default value of n_estimators will change from 10 in version 0.20 to 100 in 0.22.\n",
      "  \"10 in version 0.20 to 100 in 0.22.\", FutureWarning)\n",
      "C:\\ProgramData\\Anaconda3\\lib\\site-packages\\ipykernel_launcher.py:3: DataConversionWarning: A column-vector y was passed when a 1d array was expected. Please change the shape of y to (n_samples,), for example using ravel().\n",
      "  This is separate from the ipykernel package so we can avoid doing imports until\n"
     ]
    }
   ],
   "source": [
    "from sklearn.ensemble import RandomForestClassifier\n",
    "\n",
    "clf = RandomForestClassifier( class_weight='balanced').fit(X_train, y_train)\n"
   ]
  },
  {
   "cell_type": "markdown",
   "metadata": {
    "colab_type": "text",
    "id": "TIxjKPr7O8dL"
   },
   "source": [
    "### Performace"
   ]
  },
  {
   "cell_type": "code",
   "execution_count": 27,
   "metadata": {
    "colab": {
     "base_uri": "https://localhost:8080/",
     "height": 34
    },
    "colab_type": "code",
    "executionInfo": {
     "elapsed": 21006,
     "status": "ok",
     "timestamp": 1563524823215,
     "user": {
      "displayName": "Otto Wagner",
      "photoUrl": "https://lh3.googleusercontent.com/-17MOY4ozqqw/AAAAAAAAAAI/AAAAAAAAAAc/l7hudr051_o/s64/photo.jpg",
      "userId": "00165746663624320880"
     },
     "user_tz": -120
    },
    "id": "6vaaX_9tO8dL",
    "outputId": "02a1becc-e21e-4d13-93ae-7c469b2664bb"
   },
   "outputs": [
    {
     "data": {
      "text/plain": [
       "0.993006993006993"
      ]
     },
     "execution_count": 27,
     "metadata": {},
     "output_type": "execute_result"
    }
   ],
   "source": [
    " clf.score(X_test, y_test)"
   ]
  },
  {
   "cell_type": "code",
   "execution_count": 28,
   "metadata": {
    "colab": {
     "base_uri": "https://localhost:8080/",
     "height": 170
    },
    "colab_type": "code",
    "executionInfo": {
     "elapsed": 20999,
     "status": "ok",
     "timestamp": 1563524823216,
     "user": {
      "displayName": "Otto Wagner",
      "photoUrl": "https://lh3.googleusercontent.com/-17MOY4ozqqw/AAAAAAAAAAI/AAAAAAAAAAc/l7hudr051_o/s64/photo.jpg",
      "userId": "00165746663624320880"
     },
     "user_tz": -120
    },
    "id": "SFWCqwTGO8dP",
    "outputId": "d2cf5355-85ba-438b-de45-f1e934850ecd"
   },
   "outputs": [
    {
     "name": "stdout",
     "output_type": "stream",
     "text": [
      "              precision    recall  f1-score   support\n",
      "\n",
      "       False       0.99      1.00      0.99        89\n",
      "        True       1.00      0.98      0.99        54\n",
      "\n",
      "   micro avg       0.99      0.99      0.99       143\n",
      "   macro avg       0.99      0.99      0.99       143\n",
      "weighted avg       0.99      0.99      0.99       143\n",
      "\n"
     ]
    }
   ],
   "source": [
    "print(classification_report(y_test, clf.predict(X_test) ))"
   ]
  },
  {
   "cell_type": "markdown",
   "metadata": {
    "colab_type": "text",
    "id": "mB4xTyT9O8dT"
   },
   "source": [
    "### Matiz de Confusión"
   ]
  },
  {
   "cell_type": "code",
   "execution_count": 29,
   "metadata": {
    "colab": {
     "base_uri": "https://localhost:8080/",
     "height": 688
    },
    "colab_type": "code",
    "executionInfo": {
     "elapsed": 20991,
     "status": "ok",
     "timestamp": 1563524823217,
     "user": {
      "displayName": "Otto Wagner",
      "photoUrl": "https://lh3.googleusercontent.com/-17MOY4ozqqw/AAAAAAAAAAI/AAAAAAAAAAc/l7hudr051_o/s64/photo.jpg",
      "userId": "00165746663624320880"
     },
     "user_tz": -120
    },
    "id": "ixqm-ub3O8dU",
    "outputId": "d70a5042-3225-4986-aa05-e851e68b032f"
   },
   "outputs": [
    {
     "name": "stdout",
     "output_type": "stream",
     "text": [
      "Confusion matrix, without normalization\n",
      "[[89  0]\n",
      " [ 1 53]]\n",
      "Normalized confusion matrix\n",
      "[[1.         0.        ]\n",
      " [0.01851852 0.98148148]]\n"
     ]
    },
    {
     "data": {
      "text/plain": [
       "<matplotlib.axes._subplots.AxesSubplot at 0x28df6a6d4a8>"
      ]
     },
     "execution_count": 29,
     "metadata": {},
     "output_type": "execute_result"
    },
    {
     "data": {
      "image/png": "[encoded data removed]",
      "text/plain": [
       "<Figure size 432x288 with 2 Axes>"
      ]
     },
     "metadata": {
      "needs_background": "light"
     },
     "output_type": "display_data"
    },
    {
     "data": {
      "image/png": "[encoded data removed]",
      "text/plain": [
       "<Figure size 432x288 with 2 Axes>"
      ]
     },
     "metadata": {
      "needs_background": "light"
     },
     "output_type": "display_data"
    }
   ],
   "source": [
    "class_names = df['clase'].unique()\n",
    "# Plot non-normalized confusion matrix\n",
    "plot_confusion_matrix(y_test, clf.predict(X_test), classes=class_names,\n",
    "                      title='Confusion matrix, without normalization')\n",
    "\n",
    "# Plot normalized confusion matrix\n",
    "plot_confusion_matrix(y_test, clf.predict(X_test), classes=class_names, normalize=True,\n",
    "                      title='Normalized confusion matrix')"
   ]
  },
  {
   "cell_type": "markdown",
   "metadata": {
    "colab_type": "text",
    "id": "_JxNIBJHO8dX"
   },
   "source": [
    "### ROC"
   ]
  },
  {
   "cell_type": "code",
   "execution_count": 30,
   "metadata": {
    "colab": {
     "base_uri": "https://localhost:8080/",
     "height": 558
    },
    "colab_type": "code",
    "executionInfo": {
     "elapsed": 21414,
     "status": "ok",
     "timestamp": 1563524823655,
     "user": {
      "displayName": "Otto Wagner",
      "photoUrl": "https://lh3.googleusercontent.com/-17MOY4ozqqw/AAAAAAAAAAI/AAAAAAAAAAc/l7hudr051_o/s64/photo.jpg",
      "userId": "00165746663624320880"
     },
     "user_tz": -120
    },
    "id": "0kLGSsKnO8dX",
    "outputId": "f4e83b5b-5eee-4a80-d126-c819518a7989"
   },
   "outputs": [
    {
     "data": {
      "image/png": "[encoded data removed]",
      "text/plain": [
       "<Figure size 432x288 with 1 Axes>"
      ]
     },
     "metadata": {
      "needs_background": "light"
     },
     "output_type": "display_data"
    },
    {
     "data": {
      "image/png": "[encoded data removed]",
      "text/plain": [
       "<Figure size 432x288 with 1 Axes>"
      ]
     },
     "metadata": {
      "needs_background": "light"
     },
     "output_type": "display_data"
    }
   ],
   "source": [
    "#y_pred_proba = LR_model.predict(X_test_sc)\n",
    "#fpr, tpr, thresholds = roc_curve(y_test, y_pred_proba)\n",
    "fpr, tpr, thresholds = roc_curve(y_test, clf.predict_proba(X_test) [:,1])\n",
    "\n",
    "fig, ax1 = plt.subplots(1,1)\n",
    "ax1.plot(fpr, tpr, 'r-.', label = 'Regresión Logística (%2.2f)' % auc(fpr, tpr))\n",
    "ax1.set_xlabel('False Positive Rate')\n",
    "ax1.set_ylabel('True Positive Rate')\n",
    "ax1.set_title('ROC in test')\n",
    "ax1.plot(fpr, fpr, 'b-', label = 'Random Guess')\n",
    "ax1.legend()\n",
    "plt.show()\n",
    "\n",
    "plt.hist(clf.predict_proba(X_test)[:,1])\n",
    "plt.show()"
   ]
  },
  {
   "cell_type": "markdown",
   "metadata": {
    "colab_type": "text",
    "id": "dk-z4ZkfamOP"
   },
   "source": [
    "## GBM"
   ]
  },
  {
   "cell_type": "code",
   "execution_count": 31,
   "metadata": {
    "colab": {
     "base_uri": "https://localhost:8080/",
     "height": 71
    },
    "colab_type": "code",
    "executionInfo": {
     "elapsed": 610,
     "status": "ok",
     "timestamp": 1563526467061,
     "user": {
      "displayName": "Otto Wagner",
      "photoUrl": "https://lh3.googleusercontent.com/-17MOY4ozqqw/AAAAAAAAAAI/AAAAAAAAAAc/l7hudr051_o/s64/photo.jpg",
      "userId": "00165746663624320880"
     },
     "user_tz": -120
    },
    "id": "-gYcn-ClamOQ",
    "outputId": "36f61b5d-1481-4b0e-8d4d-846430e24ee4"
   },
   "outputs": [
    {
     "name": "stderr",
     "output_type": "stream",
     "text": [
      "C:\\ProgramData\\Anaconda3\\lib\\site-packages\\sklearn\\utils\\validation.py:761: DataConversionWarning: A column-vector y was passed when a 1d array was expected. Please change the shape of y to (n_samples, ), for example using ravel().\n",
      "  y = column_or_1d(y, warn=True)\n"
     ]
    }
   ],
   "source": [
    "from sklearn.ensemble import  GradientBoostingClassifier\n",
    "\n",
    "clf = GradientBoostingClassifier(n_estimators=500, validation_fraction=0.2, n_iter_no_change=5, tol=0.01, random_state=0).fit(X_train, y_train)\n"
   ]
  },
  {
   "cell_type": "code",
   "execution_count": 32,
   "metadata": {
    "colab": {
     "base_uri": "https://localhost:8080/",
     "height": 34
    },
    "colab_type": "code",
    "executionInfo": {
     "elapsed": 575,
     "status": "ok",
     "timestamp": 1563526550721,
     "user": {
      "displayName": "Otto Wagner",
      "photoUrl": "https://lh3.googleusercontent.com/-17MOY4ozqqw/AAAAAAAAAAI/AAAAAAAAAAc/l7hudr051_o/s64/photo.jpg",
      "userId": "00165746663624320880"
     },
     "user_tz": -120
    },
    "id": "jZ7k1r9XcPOL",
    "outputId": "756b2e0e-f5f9-4759-e15b-f6a880ca9e06"
   },
   "outputs": [
    {
     "data": {
      "text/plain": [
       "31"
      ]
     },
     "execution_count": 32,
     "metadata": {},
     "output_type": "execute_result"
    }
   ],
   "source": [
    "clf.n_estimators_"
   ]
  },
  {
   "cell_type": "markdown",
   "metadata": {
    "colab_type": "text",
    "id": "-o9vj5LFamOT"
   },
   "source": [
    "### Performace"
   ]
  },
  {
   "cell_type": "code",
   "execution_count": 33,
   "metadata": {
    "colab": {
     "base_uri": "https://localhost:8080/",
     "height": 34
    },
    "colab_type": "code",
    "executionInfo": {
     "elapsed": 842,
     "status": "ok",
     "timestamp": 1563526472332,
     "user": {
      "displayName": "Otto Wagner",
      "photoUrl": "https://lh3.googleusercontent.com/-17MOY4ozqqw/AAAAAAAAAAI/AAAAAAAAAAc/l7hudr051_o/s64/photo.jpg",
      "userId": "00165746663624320880"
     },
     "user_tz": -120
    },
    "id": "eOSsg6lMamOU",
    "outputId": "7dedec64-54ae-4d7c-ce12-9f2313b20a7c"
   },
   "outputs": [
    {
     "data": {
      "text/plain": [
       "0.9440559440559441"
      ]
     },
     "execution_count": 33,
     "metadata": {},
     "output_type": "execute_result"
    }
   ],
   "source": [
    " clf.score(X_test, y_test)"
   ]
  },
  {
   "cell_type": "code",
   "execution_count": 34,
   "metadata": {
    "colab": {
     "base_uri": "https://localhost:8080/",
     "height": 170
    },
    "colab_type": "code",
    "executionInfo": {
     "elapsed": 368,
     "status": "ok",
     "timestamp": 1563526473625,
     "user": {
      "displayName": "Otto Wagner",
      "photoUrl": "https://lh3.googleusercontent.com/-17MOY4ozqqw/AAAAAAAAAAI/AAAAAAAAAAc/l7hudr051_o/s64/photo.jpg",
      "userId": "00165746663624320880"
     },
     "user_tz": -120
    },
    "id": "1vt860N7amOX",
    "outputId": "a7eea756-16d5-426c-ca58-6ece9d787e10"
   },
   "outputs": [
    {
     "name": "stdout",
     "output_type": "stream",
     "text": [
      "              precision    recall  f1-score   support\n",
      "\n",
      "       False       0.97      0.94      0.95        89\n",
      "        True       0.91      0.94      0.93        54\n",
      "\n",
      "   micro avg       0.94      0.94      0.94       143\n",
      "   macro avg       0.94      0.94      0.94       143\n",
      "weighted avg       0.94      0.94      0.94       143\n",
      "\n"
     ]
    }
   ],
   "source": [
    "print(classification_report(y_test, clf.predict(X_test) ))"
   ]
  },
  {
   "cell_type": "markdown",
   "metadata": {
    "colab_type": "text",
    "id": "ig75WcfoamOa"
   },
   "source": [
    "### Matiz de Confusión"
   ]
  },
  {
   "cell_type": "code",
   "execution_count": 35,
   "metadata": {
    "colab": {
     "base_uri": "https://localhost:8080/",
     "height": 688
    },
    "colab_type": "code",
    "executionInfo": {
     "elapsed": 1086,
     "status": "ok",
     "timestamp": 1563525179253,
     "user": {
      "displayName": "Otto Wagner",
      "photoUrl": "https://lh3.googleusercontent.com/-17MOY4ozqqw/AAAAAAAAAAI/AAAAAAAAAAc/l7hudr051_o/s64/photo.jpg",
      "userId": "00165746663624320880"
     },
     "user_tz": -120
    },
    "id": "AlEsRb77amOb",
    "outputId": "da4ea3d3-4804-47f4-da2a-1dbe5042a57f"
   },
   "outputs": [
    {
     "name": "stdout",
     "output_type": "stream",
     "text": [
      "Confusion matrix, without normalization\n",
      "[[84  5]\n",
      " [ 3 51]]\n",
      "Normalized confusion matrix\n",
      "[[0.94382022 0.05617978]\n",
      " [0.05555556 0.94444444]]\n"
     ]
    },
    {
     "data": {
      "text/plain": [
       "<matplotlib.axes._subplots.AxesSubplot at 0x28df6c55240>"
      ]
     },
     "execution_count": 35,
     "metadata": {},
     "output_type": "execute_result"
    },
    {
     "data": {
      "image/png": "[encoded data removed]",
      "text/plain": [
       "<Figure size 432x288 with 2 Axes>"
      ]
     },
     "metadata": {
      "needs_background": "light"
     },
     "output_type": "display_data"
    },
    {
     "data": {
      "image/png": "[encoded data removed]",
      "text/plain": [
       "<Figure size 432x288 with 2 Axes>"
      ]
     },
     "metadata": {
      "needs_background": "light"
     },
     "output_type": "display_data"
    }
   ],
   "source": [
    "class_names = df['clase'].unique()\n",
    "# Plot non-normalized confusion matrix\n",
    "plot_confusion_matrix(y_test, clf.predict(X_test), classes=class_names,\n",
    "                      title='Confusion matrix, without normalization')\n",
    "\n",
    "# Plot normalized confusion matrix\n",
    "plot_confusion_matrix(y_test, clf.predict(X_test), classes=class_names, normalize=True,\n",
    "                      title='Normalized confusion matrix')"
   ]
  },
  {
   "cell_type": "markdown",
   "metadata": {
    "colab_type": "text",
    "id": "iKBk7uuBamOf"
   },
   "source": [
    "### ROC"
   ]
  },
  {
   "cell_type": "code",
   "execution_count": 36,
   "metadata": {
    "colab": {
     "base_uri": "https://localhost:8080/",
     "height": 558
    },
    "colab_type": "code",
    "executionInfo": {
     "elapsed": 1015,
     "status": "ok",
     "timestamp": 1563525183810,
     "user": {
      "displayName": "Otto Wagner",
      "photoUrl": "https://lh3.googleusercontent.com/-17MOY4ozqqw/AAAAAAAAAAI/AAAAAAAAAAc/l7hudr051_o/s64/photo.jpg",
      "userId": "00165746663624320880"
     },
     "user_tz": -120
    },
    "id": "3eES4ialamOf",
    "outputId": "85d71901-ae20-4b59-8041-49570123ff97"
   },
   "outputs": [
    {
     "data": {
      "image/png": "[encoded data removed]",
      "text/plain": [
       "<Figure size 432x288 with 1 Axes>"
      ]
     },
     "metadata": {
      "needs_background": "light"
     },
     "output_type": "display_data"
    },
    {
     "data": {
      "image/png": "[encoded data removed]",
      "text/plain": [
       "<Figure size 432x288 with 1 Axes>"
      ]
     },
     "metadata": {
      "needs_background": "light"
     },
     "output_type": "display_data"
    }
   ],
   "source": [
    "#y_pred_proba = LR_model.predict(X_test_sc)\n",
    "#fpr, tpr, thresholds = roc_curve(y_test, y_pred_proba)\n",
    "fpr, tpr, thresholds = roc_curve(y_test, clf.predict_proba(X_test) [:,1])\n",
    "\n",
    "fig, ax1 = plt.subplots(1,1)\n",
    "ax1.plot(fpr, tpr, 'r-.', label = 'Regresión Logística (%2.2f)' % auc(fpr, tpr))\n",
    "ax1.set_xlabel('False Positive Rate')\n",
    "ax1.set_ylabel('True Positive Rate')\n",
    "ax1.set_title('ROC in test')\n",
    "ax1.plot(fpr, fpr, 'b-', label = 'Random Guess')\n",
    "ax1.legend()\n",
    "plt.show()\n",
    "\n",
    "plt.hist(clf.predict_proba(X_test)[:,1])\n",
    "plt.show()"
   ]
  },
  {
   "cell_type": "code",
   "execution_count": null,
   "metadata": {
    "colab": {},
    "colab_type": "code",
    "id": "I9HPVoqnbFa5"
   },
   "outputs": [],
   "source": []
  },
  {
   "cell_type": "markdown",
   "metadata": {
    "colab_type": "text",
    "id": "j1dHeFsPWaoT"
   },
   "source": [
    "## KNN"
   ]
  },
  {
   "cell_type": "code",
   "execution_count": 52,
   "metadata": {
    "colab": {
     "base_uri": "https://localhost:8080/",
     "height": 51
    },
    "colab_type": "code",
    "executionInfo": {
     "elapsed": 654,
     "status": "ok",
     "timestamp": 1563525202942,
     "user": {
      "displayName": "Otto Wagner",
      "photoUrl": "https://lh3.googleusercontent.com/-17MOY4ozqqw/AAAAAAAAAAI/AAAAAAAAAAc/l7hudr051_o/s64/photo.jpg",
      "userId": "00165746663624320880"
     },
     "user_tz": -120
    },
    "id": "wXHr3pFfWX7h",
    "outputId": "89355ff6-bd86-49b9-e38b-d43f389427d8"
   },
   "outputs": [
    {
     "name": "stderr",
     "output_type": "stream",
     "text": [
      "/usr/local/lib/python3.6/dist-packages/ipykernel_launcher.py:3: DataConversionWarning: A column-vector y was passed when a 1d array was expected. Please change the shape of y to (n_samples, ), for example using ravel().\n",
      "  This is separate from the ipykernel package so we can avoid doing imports until\n"
     ]
    }
   ],
   "source": [
    "from sklearn.neighbors import KNeighborsClassifier\n",
    "\n",
    "clf = KNeighborsClassifier(n_neighbors=3).fit(X_train, y_train)\n"
   ]
  },
  {
   "cell_type": "markdown",
   "metadata": {
    "colab_type": "text",
    "id": "mLBIXgrOWX7w"
   },
   "source": [
    "### Performace"
   ]
  },
  {
   "cell_type": "code",
   "execution_count": 53,
   "metadata": {
    "colab": {
     "base_uri": "https://localhost:8080/",
     "height": 34
    },
    "colab_type": "code",
    "executionInfo": {
     "elapsed": 351,
     "status": "ok",
     "timestamp": 1563525203187,
     "user": {
      "displayName": "Otto Wagner",
      "photoUrl": "https://lh3.googleusercontent.com/-17MOY4ozqqw/AAAAAAAAAAI/AAAAAAAAAAc/l7hudr051_o/s64/photo.jpg",
      "userId": "00165746663624320880"
     },
     "user_tz": -120
    },
    "id": "5Lb0E8VbWX7x",
    "outputId": "8516b85c-cde4-4f34-ae40-ccb89764c29d"
   },
   "outputs": [
    {
     "data": {
      "text/plain": [
       "0.9300699300699301"
      ]
     },
     "execution_count": 53,
     "metadata": {
      "tags": []
     },
     "output_type": "execute_result"
    }
   ],
   "source": [
    " clf.score(X_test, y_test)"
   ]
  },
  {
   "cell_type": "code",
   "execution_count": 54,
   "metadata": {
    "colab": {
     "base_uri": "https://localhost:8080/",
     "height": 170
    },
    "colab_type": "code",
    "executionInfo": {
     "elapsed": 521,
     "status": "ok",
     "timestamp": 1563525203515,
     "user": {
      "displayName": "Otto Wagner",
      "photoUrl": "https://lh3.googleusercontent.com/-17MOY4ozqqw/AAAAAAAAAAI/AAAAAAAAAAc/l7hudr051_o/s64/photo.jpg",
      "userId": "00165746663624320880"
     },
     "user_tz": -120
    },
    "id": "qSXRD8wXWX72",
    "outputId": "721d2edb-8aec-45f3-9f84-ffaf80993839"
   },
   "outputs": [
    {
     "name": "stdout",
     "output_type": "stream",
     "text": [
      "              precision    recall  f1-score   support\n",
      "\n",
      "       False       0.94      0.94      0.94        89\n",
      "        True       0.91      0.91      0.91        54\n",
      "\n",
      "    accuracy                           0.93       143\n",
      "   macro avg       0.93      0.93      0.93       143\n",
      "weighted avg       0.93      0.93      0.93       143\n",
      "\n"
     ]
    }
   ],
   "source": [
    "print(classification_report(y_test, clf.predict(X_test) ))"
   ]
  },
  {
   "cell_type": "markdown",
   "metadata": {
    "colab_type": "text",
    "id": "v9_PBkdVWX75"
   },
   "source": [
    "### Matiz de Confusión"
   ]
  },
  {
   "cell_type": "code",
   "execution_count": 55,
   "metadata": {
    "colab": {
     "base_uri": "https://localhost:8080/",
     "height": 688
    },
    "colab_type": "code",
    "executionInfo": {
     "elapsed": 1383,
     "status": "ok",
     "timestamp": 1563525204641,
     "user": {
      "displayName": "Otto Wagner",
      "photoUrl": "https://lh3.googleusercontent.com/-17MOY4ozqqw/AAAAAAAAAAI/AAAAAAAAAAc/l7hudr051_o/s64/photo.jpg",
      "userId": "00165746663624320880"
     },
     "user_tz": -120
    },
    "id": "9vXYIxVgWX75",
    "outputId": "afe232cc-8f0b-45f5-b9c9-813d0ec899c0"
   },
   "outputs": [
    {
     "name": "stdout",
     "output_type": "stream",
     "text": [
      "Confusion matrix, without normalization\n",
      "[[84  5]\n",
      " [ 5 49]]\n",
      "Normalized confusion matrix\n",
      "[[0.94382022 0.05617978]\n",
      " [0.09259259 0.90740741]]\n"
     ]
    },
    {
     "data": {
      "text/plain": [
       "<matplotlib.axes._subplots.AxesSubplot at 0x7ff31aaae780>"
      ]
     },
     "execution_count": 55,
     "metadata": {
      "tags": []
     },
     "output_type": "execute_result"
    },
    {
     "data": {
      "image/png": "[encoded data removed]",
      "text/plain": [
       "<Figure size 432x288 with 2 Axes>"
      ]
     },
     "metadata": {
      "tags": []
     },
     "output_type": "display_data"
    },
    {
     "data": {
      "image/png": "[encoded data removed]",
      "text/plain": [
       "<Figure size 432x288 with 2 Axes>"
      ]
     },
     "metadata": {
      "tags": []
     },
     "output_type": "display_data"
    }
   ],
   "source": [
    "class_names = df['clase'].unique()\n",
    "# Plot non-normalized confusion matrix\n",
    "plot_confusion_matrix(y_test, clf.predict(X_test), classes=class_names,\n",
    "                      title='Confusion matrix, without normalization')\n",
    "\n",
    "# Plot normalized confusion matrix\n",
    "plot_confusion_matrix(y_test, clf.predict(X_test), classes=class_names, normalize=True,\n",
    "                      title='Normalized confusion matrix')"
   ]
  },
  {
   "cell_type": "markdown",
   "metadata": {
    "colab_type": "text",
    "id": "jVVNFNynWX79"
   },
   "source": [
    "### ROC"
   ]
  },
  {
   "cell_type": "code",
   "execution_count": 56,
   "metadata": {
    "colab": {
     "base_uri": "https://localhost:8080/",
     "height": 558
    },
    "colab_type": "code",
    "executionInfo": {
     "elapsed": 1454,
     "status": "ok",
     "timestamp": 1563525205072,
     "user": {
      "displayName": "Otto Wagner",
      "photoUrl": "https://lh3.googleusercontent.com/-17MOY4ozqqw/AAAAAAAAAAI/AAAAAAAAAAc/l7hudr051_o/s64/photo.jpg",
      "userId": "00165746663624320880"
     },
     "user_tz": -120
    },
    "id": "_x-oudhGWX7-",
    "outputId": "569a9ccb-d0be-45e9-f013-41d2d14de05c"
   },
   "outputs": [
    {
     "data": {
      "image/png": "[encoded data removed]",
      "text/plain": [
       "<Figure size 432x288 with 1 Axes>"
      ]
     },
     "metadata": {
      "tags": []
     },
     "output_type": "display_data"
    },
    {
     "data": {
      "image/png": "[encoded data removed]",
      "text/plain": [
       "<Figure size 432x288 with 1 Axes>"
      ]
     },
     "metadata": {
      "tags": []
     },
     "output_type": "display_data"
    }
   ],
   "source": [
    "#y_pred_proba = LR_model.predict(X_test_sc)\n",
    "#fpr, tpr, thresholds = roc_curve(y_test, y_pred_proba)\n",
    "fpr, tpr, thresholds = roc_curve(y_test, clf.predict_proba(X_test) [:,1])\n",
    "\n",
    "fig, ax1 = plt.subplots(1,1)\n",
    "ax1.plot(fpr, tpr, 'r-.', label = 'Regresión Logística (%2.2f)' % auc(fpr, tpr))\n",
    "ax1.set_xlabel('False Positive Rate')\n",
    "ax1.set_ylabel('True Positive Rate')\n",
    "ax1.set_title('ROC in test')\n",
    "ax1.plot(fpr, fpr, 'b-', label = 'Random Guess')\n",
    "ax1.legend()\n",
    "plt.show()\n",
    "\n",
    "plt.hist(clf.predict_proba(X_test)[:,1])\n",
    "plt.show()"
   ]
  },
  {
   "cell_type": "code",
   "execution_count": 0,
   "metadata": {
    "colab": {},
    "colab_type": "code",
    "id": "KS3x6su7XUZT"
   },
   "outputs": [],
   "source": []
  }
 ],
 "metadata": {
  "colab": {
   "collapsed_sections": [],
   "name": "03 Clasificación Cancer.ipynb",
   "provenance": [
    {
     "file_id": "15cLCF41kUbr5aOsqStd_KzO66Ocm94EG",
     "timestamp": 1563459396291
    }
   ],
   "version": "0.3.2"
  },
  "kernelspec": {
   "display_name": "Python 3",
   "language": "python",
   "name": "python3"
  },
  "language_info": {
   "codemirror_mode": {
    "name": "ipython",
    "version": 3
   },
   "file_extension": ".py",
   "mimetype": "text/x-python",
   "name": "python",
   "nbconvert_exporter": "python",
   "pygments_lexer": "ipython3",
   "version": "3.7.3"
  }
 },
 "nbformat": 4,
 "nbformat_minor": 1
}
